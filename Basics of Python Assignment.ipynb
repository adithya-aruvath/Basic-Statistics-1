{
 "cells": [
  {
   "cell_type": "markdown",
   "id": "cc7cd04b-9713-4fad-8d7c-1552c844cb25",
   "metadata": {},
   "source": [
    "## BASICS OF PYTHON "
   ]
  },
  {
   "cell_type": "markdown",
   "id": "ceb5b48d-9b4a-419c-a5cc-03e0d009dc4e",
   "metadata": {},
   "source": [
    "### Exercise 1: Prime Numbers"
   ]
  },
  {
   "cell_type": "code",
   "execution_count": 3,
   "id": "b639ceb5-b965-4baf-9b12-e7dfeba520f5",
   "metadata": {},
   "outputs": [],
   "source": [
    "### Write a Python program that checks whether a given number is prime or not. A prime number is a natural number greater than 1 that has no positive divisors other than 1 and itself."
   ]
  },
  {
   "cell_type": "code",
   "execution_count": 4,
   "id": "8e34fe7a-84cc-4943-bc22-a23333603246",
   "metadata": {},
   "outputs": [],
   "source": [
    "def is_prime(n):\n",
    "    if n <= 1:\n",
    "        return False\n",
    "    if n <= 3:\n",
    "        return True\n",
    "    if n % 2 == 0 or n % 3 == 0:\n",
    "        return False\n",
    "    \n",
    "    i = 5\n",
    "    while i * i <= n:\n",
    "        if n % i == 0 or n % (i + 2) == 0:\n",
    "            return False\n",
    "        i += 6\n",
    "    return True"
   ]
  },
  {
   "cell_type": "code",
   "execution_count": 20,
   "id": "7a83918f-cb93-4aa8-907f-c8ab980590aa",
   "metadata": {},
   "outputs": [
    {
     "name": "stdin",
     "output_type": "stream",
     "text": [
      "Enter a number:  7\n"
     ]
    }
   ],
   "source": [
    "number = int(input(\"Enter a number: \"))"
   ]
  },
  {
   "cell_type": "code",
   "execution_count": 22,
   "id": "cf9107fa-14fa-4f67-bdc3-678372813853",
   "metadata": {},
   "outputs": [
    {
     "name": "stdout",
     "output_type": "stream",
     "text": [
      "7 is a prime number.\n"
     ]
    }
   ],
   "source": [
    "if is_prime(number):\n",
    "    print(f\"{number} is a prime number.\")\n",
    "else:\n",
    "    print(f\"{number} is not a prime number.\")"
   ]
  },
  {
   "cell_type": "markdown",
   "id": "a90fb52d-1e14-4b9b-9570-0586366ccf9a",
   "metadata": {},
   "source": [
    "### Exercise 2: Product of Random Numbers"
   ]
  },
  {
   "cell_type": "code",
   "execution_count": 25,
   "id": "8bdc83cd-2648-4fb7-b1ce-e330daf36d66",
   "metadata": {},
   "outputs": [],
   "source": [
    "\n",
    "### Develop a Python program that generates two random numbers and asks the user to enter the product of these numbers. The program should then check if the user's answer is correct and display an appropriate message.\n"
   ]
  },
  {
   "cell_type": "code",
   "execution_count": 27,
   "id": "76ddac86-5999-44fc-83c0-1b3f10bc078c",
   "metadata": {},
   "outputs": [],
   "source": [
    "import random"
   ]
  },
  {
   "cell_type": "code",
   "execution_count": 29,
   "id": "71d7d765-0686-460e-a090-a90640e778fc",
   "metadata": {},
   "outputs": [
    {
     "name": "stdin",
     "output_type": "stream",
     "text": [
      "What is the product of 3 and 8?  24\n"
     ]
    },
    {
     "name": "stdout",
     "output_type": "stream",
     "text": [
      "Correct! Well done.\n"
     ]
    }
   ],
   "source": [
    "def main():\n",
    "    # Generate two random numbers between 1 and 10\n",
    "    num1 = random.randint(1, 10)\n",
    "    num2 = random.randint(1, 10)\n",
    "    correct_product = num1 * num2\n",
    "    try:\n",
    "        user_answer = int(input(f\"What is the product of {num1} and {num2}? \"))\n",
    "    except ValueError:\n",
    "        print(\"Please enter a valid integer.\")\n",
    "        return\n",
    "    if user_answer == correct_product:\n",
    "        print(\"Correct! Well done.\")\n",
    "    else:\n",
    "        print(f\"Wrong! The correct answer is {correct_product}.\")\n",
    "\n",
    "if __name__ == \"__main__\":\n",
    "    main()"
   ]
  },
  {
   "cell_type": "markdown",
   "id": "04bfbef8-a59c-4566-ac75-9423385af06a",
   "metadata": {},
   "source": [
    "### Exercise 3: Squares of Even/Odd Numbers"
   ]
  },
  {
   "cell_type": "code",
   "execution_count": 32,
   "id": "c94a46ca-796f-4ddd-90d2-476b0b95591e",
   "metadata": {},
   "outputs": [],
   "source": [
    "## Create a Python script that prints the squares of all even or odd numbers within the range of 100 to 200. Choose either even or odd numbers and document your choice in the code."
   ]
  },
  {
   "cell_type": "code",
   "execution_count": 34,
   "id": "445ab932-68df-4518-a601-6f62b93f53f5",
   "metadata": {},
   "outputs": [
    {
     "name": "stdout",
     "output_type": "stream",
     "text": [
      "The square of 100 is 10000\n",
      "The square of 102 is 10404\n",
      "The square of 104 is 10816\n",
      "The square of 106 is 11236\n",
      "The square of 108 is 11664\n",
      "The square of 110 is 12100\n",
      "The square of 112 is 12544\n",
      "The square of 114 is 12996\n",
      "The square of 116 is 13456\n",
      "The square of 118 is 13924\n",
      "The square of 120 is 14400\n",
      "The square of 122 is 14884\n",
      "The square of 124 is 15376\n",
      "The square of 126 is 15876\n",
      "The square of 128 is 16384\n",
      "The square of 130 is 16900\n",
      "The square of 132 is 17424\n",
      "The square of 134 is 17956\n",
      "The square of 136 is 18496\n",
      "The square of 138 is 19044\n",
      "The square of 140 is 19600\n",
      "The square of 142 is 20164\n",
      "The square of 144 is 20736\n",
      "The square of 146 is 21316\n",
      "The square of 148 is 21904\n",
      "The square of 150 is 22500\n",
      "The square of 152 is 23104\n",
      "The square of 154 is 23716\n",
      "The square of 156 is 24336\n",
      "The square of 158 is 24964\n",
      "The square of 160 is 25600\n",
      "The square of 162 is 26244\n",
      "The square of 164 is 26896\n",
      "The square of 166 is 27556\n",
      "The square of 168 is 28224\n",
      "The square of 170 is 28900\n",
      "The square of 172 is 29584\n",
      "The square of 174 is 30276\n",
      "The square of 176 is 30976\n",
      "The square of 178 is 31684\n",
      "The square of 180 is 32400\n",
      "The square of 182 is 33124\n",
      "The square of 184 is 33856\n",
      "The square of 186 is 34596\n",
      "The square of 188 is 35344\n",
      "The square of 190 is 36100\n",
      "The square of 192 is 36864\n",
      "The square of 194 is 37636\n",
      "The square of 196 is 38416\n",
      "The square of 198 is 39204\n",
      "The square of 200 is 40000\n"
     ]
    }
   ],
   "source": [
    "def main():\n",
    "    # Define the range\n",
    "    start = 100\n",
    "    end = 200\n",
    "\n",
    "    # Iterate through the range and check for even numbers\n",
    "    for number in range(start, end + 1):\n",
    "        if number % 2 == 0:  # Check if the number is even\n",
    "            square = number ** 2\n",
    "            print(f\"The square of {number} is {square}\")\n",
    "\n",
    "if __name__ == \"__main__\":\n",
    "    main()"
   ]
  },
  {
   "cell_type": "code",
   "execution_count": 36,
   "id": "ffb64cd0-1c97-439c-9713-6410ca936d70",
   "metadata": {},
   "outputs": [
    {
     "name": "stdout",
     "output_type": "stream",
     "text": [
      "The square of 101 is 10201\n",
      "The square of 103 is 10609\n",
      "The square of 105 is 11025\n",
      "The square of 107 is 11449\n",
      "The square of 109 is 11881\n",
      "The square of 111 is 12321\n",
      "The square of 113 is 12769\n",
      "The square of 115 is 13225\n",
      "The square of 117 is 13689\n",
      "The square of 119 is 14161\n",
      "The square of 121 is 14641\n",
      "The square of 123 is 15129\n",
      "The square of 125 is 15625\n",
      "The square of 127 is 16129\n",
      "The square of 129 is 16641\n",
      "The square of 131 is 17161\n",
      "The square of 133 is 17689\n",
      "The square of 135 is 18225\n",
      "The square of 137 is 18769\n",
      "The square of 139 is 19321\n",
      "The square of 141 is 19881\n",
      "The square of 143 is 20449\n",
      "The square of 145 is 21025\n",
      "The square of 147 is 21609\n",
      "The square of 149 is 22201\n",
      "The square of 151 is 22801\n",
      "The square of 153 is 23409\n",
      "The square of 155 is 24025\n",
      "The square of 157 is 24649\n",
      "The square of 159 is 25281\n",
      "The square of 161 is 25921\n",
      "The square of 163 is 26569\n",
      "The square of 165 is 27225\n",
      "The square of 167 is 27889\n",
      "The square of 169 is 28561\n",
      "The square of 171 is 29241\n",
      "The square of 173 is 29929\n",
      "The square of 175 is 30625\n",
      "The square of 177 is 31329\n",
      "The square of 179 is 32041\n",
      "The square of 181 is 32761\n",
      "The square of 183 is 33489\n",
      "The square of 185 is 34225\n",
      "The square of 187 is 34969\n",
      "The square of 189 is 35721\n",
      "The square of 191 is 36481\n",
      "The square of 193 is 37249\n",
      "The square of 195 is 38025\n",
      "The square of 197 is 38809\n",
      "The square of 199 is 39601\n"
     ]
    }
   ],
   "source": [
    "def main():\n",
    "    # Define the range\n",
    "    start = 100\n",
    "    end = 200\n",
    "\n",
    "    # Iterate through the range and check for even numbers\n",
    "    for number in range(start, end + 1):\n",
    "        if number % 2 != 0:  # Check if the number is odd\n",
    "            square = number ** 2\n",
    "            print(f\"The square of {number} is {square}\")\n",
    "\n",
    "if __name__ == \"__main__\":\n",
    "    main()"
   ]
  },
  {
   "cell_type": "markdown",
   "id": "d288ad81-7702-44e0-8a4e-4f5e47597557",
   "metadata": {},
   "source": [
    "### Exercise 4: Word counter\t"
   ]
  },
  {
   "cell_type": "code",
   "execution_count": 39,
   "id": "b3a61561-18e9-4de3-afe2-0be8af135b16",
   "metadata": {},
   "outputs": [
    {
     "name": "stdout",
     "output_type": "stream",
     "text": [
      "'this': 2\n",
      "'is': 1\n",
      "'a': 1\n",
      "'sample': 1\n",
      "'text': 2\n",
      "'will': 1\n",
      "'be': 1\n",
      "'used': 1\n",
      "'to': 1\n",
      "'demonstrate': 1\n",
      "'the': 1\n",
      "'word': 1\n",
      "'counter': 1\n"
     ]
    }
   ],
   "source": [
    "def count_words(input_text):\n",
    "    # Split the text into words, removing punctuation\n",
    "    words = input_text.split()\n",
    "    \n",
    "    # Create a dictionary to hold word counts\n",
    "    word_count = {}\n",
    "\n",
    "    # Count each word\n",
    "    for word in words:\n",
    "        # Convert to lowercase for case-insensitive counting\n",
    "        word = word.lower().strip(\".,!?:;\\\"'\")  # Remove common punctuation\n",
    "        if word:  # Only count non-empty words\n",
    "            word_count[word] = word_count.get(word, 0) + 1\n",
    "\n",
    "    return word_count\n",
    "\n",
    "def main():\n",
    "    input_text = \"This is a sample text. This text will be used to demonstrate the word counter.\"\n",
    "    word_counts = count_words(input_text)\n",
    "    \n",
    "    # Print the results\n",
    "    for word, count in word_counts.items():\n",
    "        print(f\"'{word}': {count}\")\n",
    "\n",
    "if __name__ == \"__main__\":\n",
    "    main()"
   ]
  },
  {
   "cell_type": "markdown",
   "id": "367155c6-4f69-4a18-8f09-e39929ee08ef",
   "metadata": {},
   "source": [
    "### Exercise 5: Check for Palindrome"
   ]
  },
  {
   "cell_type": "code",
   "execution_count": 42,
   "id": "16f737f5-5262-47bf-944e-334639e3a136",
   "metadata": {},
   "outputs": [],
   "source": [
    "## Write a Python function called is_palindrome that takes a string as input and returns True if the string is a palindrome, and False otherwise. A palindrome is a word, phrase, number, or other sequence of characters that reads the same forward and backward, ignoring spaces, punctuation, and capitalization."
   ]
  },
  {
   "cell_type": "code",
   "execution_count": 44,
   "id": "c54f7688-51a9-453f-a937-24c8e7e18156",
   "metadata": {},
   "outputs": [
    {
     "name": "stdout",
     "output_type": "stream",
     "text": [
      "Input: 'racecar'\n",
      "Expected Output: True\n"
     ]
    }
   ],
   "source": [
    "import string\n",
    "\n",
    "def is_palindrome(input_string):\n",
    "    # Normalize the string: remove punctuation, spaces, and convert to lowercase\n",
    "    normalized_string = ''.join(\n",
    "        char.lower() for char in input_string if char.isalnum()\n",
    "    )\n",
    "    \n",
    "    # Check if the normalized string is the same forwards and backwards\n",
    "    return normalized_string == normalized_string[::-1]\n",
    "\n",
    "if __name__ == \"__main__\":\n",
    "    input_text = \"racecar\"\n",
    "    print(f\"Input: '{input_text}'\")\n",
    "    print(\"Expected Output:\", is_palindrome(input_text))"
   ]
  },
  {
   "cell_type": "code",
   "execution_count": 46,
   "id": "33cf563e-bbe4-499d-bb0f-cb475f497931",
   "metadata": {},
   "outputs": [],
   "source": [
    "## The function will return True, as \"racecar\" can read the same backward."
   ]
  },
  {
   "cell_type": "code",
   "execution_count": 48,
   "id": "d308073a-ab25-442d-8c0d-4dbad4e5f9bb",
   "metadata": {},
   "outputs": [
    {
     "name": "stdout",
     "output_type": "stream",
     "text": [
      "Input: 'goodmorning'\n",
      "Expected Output: False\n"
     ]
    }
   ],
   "source": [
    "import string\n",
    "\n",
    "def is_palindrome(input_string):\n",
    "    # Normalize the string: remove punctuation, spaces, and convert to lowercase\n",
    "    normalized_string = ''.join(\n",
    "        char.lower() for char in input_string if char.isalnum()\n",
    "    )\n",
    "    \n",
    "    # Check if the normalized string is the same forwards and backwards\n",
    "    return normalized_string == normalized_string[::-1]\n",
    "\n",
    "if __name__ == \"__main__\":\n",
    "    input_text = \"goodmorning\"\n",
    "    print(f\"Input: '{input_text}'\")\n",
    "    print(\"Expected Output:\", is_palindrome(input_text))"
   ]
  },
  {
   "cell_type": "code",
   "execution_count": 50,
   "id": "6e6e6382-cc42-4849-890a-b26be4cbdc03",
   "metadata": {},
   "outputs": [],
   "source": [
    "## The function will return False, as \"goodmorning\" does not read the same backward."
   ]
  }
 ],
 "metadata": {
  "kernelspec": {
   "display_name": "Python 3 (ipykernel)",
   "language": "python",
   "name": "python3"
  },
  "language_info": {
   "codemirror_mode": {
    "name": "ipython",
    "version": 3
   },
   "file_extension": ".py",
   "mimetype": "text/x-python",
   "name": "python",
   "nbconvert_exporter": "python",
   "pygments_lexer": "ipython3",
   "version": "3.12.4"
  }
 },
 "nbformat": 4,
 "nbformat_minor": 5
}
